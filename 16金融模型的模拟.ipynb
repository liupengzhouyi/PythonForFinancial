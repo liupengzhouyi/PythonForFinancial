{
 "cells": [
  {
   "cell_type": "markdown",
   "metadata": {
    "pycharm": {
     "name": "#%% md\n"
    }
   },
   "source": [
    "# 第16章 金融模型的模拟"
   ]
  },
  {
   "cell_type": "markdown",
   "metadata": {},
   "source": [
    "> 金融数据分析库 DX\n",
    "\n",
    "> pip install git+https://github.com/yhilpisch/dx.git"
   ]
  },
  {
   "cell_type": "markdown",
   "metadata": {},
   "source": [
    "## 16.1 随机数生成"
   ]
  },
  {
   "cell_type": "markdown",
   "metadata": {},
   "source": [
    "> 生成标准正态分布随机数的函数"
   ]
  },
  {
   "cell_type": "code",
   "execution_count": 2,
   "metadata": {},
   "outputs": [],
   "source": [
    "import numpy as np\n",
    "\n",
    "def sn_random_numbers(shape, antithetic=True, moment_matching=True, fixed_seed=False):\n",
    "    \"\"\"\n",
    "    Returns an array of shape shape with (pseudo) random numbers\n",
    "    that are standard normally distributed.\n",
    "    :param shape: tuple(0,n,m)\n",
    "        generation of array with shape(0,n,m)\n",
    "    :param antithetic: Boolean\n",
    "        generation of antithetic variates\n",
    "    :param moment_matching: Boolean\n",
    "        matching of first and second moments\n",
    "    :param fixed_seed: Boolean\n",
    "        flag to fix and seed\n",
    "    :return:\n",
    "        ran:(0,n,m) array of (pseudo) random numbers\n",
    "    \"\"\"\n",
    "    if fixed_seed:\n",
    "        np.random.seed(1000)\n",
    "\n",
    "    if antithetic:\n",
    "        ran = np.random.standard_normal((shape[0], shape[1], shape[2] / 2))\n",
    "        ran = np.concatenate((ran, -ran), axis=2)\n",
    "    else:\n",
    "        ran = np.random.standard_normal(shape)\n",
    "\n",
    "    if moment_matching:\n",
    "        ran = ran - np.mean(ran)\n",
    "        ran = ran / np.std(ran)\n",
    "\n",
    "    if shape[0] == 1:\n",
    "        return ran[0]\n",
    "    else:\n",
    "        return ran"
   ]
  },
  {
   "cell_type": "code",
   "execution_count": 3,
   "metadata": {},
   "outputs": [
    {
     "name": "stdout",
     "output_type": "stream",
     "text": [
      "[[[-0.8044583   0.32093155]\n",
      "  [-0.02548288  0.64432383]]\n",
      "\n",
      " [[-0.30079667  0.38947455]\n",
      "  [-0.1074373  -0.47998308]]]\n"
     ]
    }
   ],
   "source": [
    "snrn = sn_random_numbers((2, 2, 2), antithetic=False, moment_matching=False, fixed_seed=True)\n",
    "print(snrn)"
   ]
  },
  {
   "cell_type": "code",
   "execution_count": 4,
   "metadata": {},
   "outputs": [
    {
     "name": "stdout",
     "output_type": "stream",
     "text": [
      "[[[-1.47414161  0.67072537]\n",
      "  [ 0.01049828  1.28707482]\n",
      "  [-0.51421897  0.80136066]]\n",
      "\n",
      " [[-0.14569767 -0.85572818]\n",
      "  [ 1.19313679 -0.82653845]\n",
      "  [ 1.3308292  -1.47730025]]]\n"
     ]
    }
   ],
   "source": [
    "snrn_mm = sn_random_numbers((2, 3, 2), antithetic=False, moment_matching=True, fixed_seed=True)\n",
    "print(snrn_mm)"
   ]
  },
  {
   "cell_type": "code",
   "execution_count": 5,
   "metadata": {},
   "outputs": [
    {
     "name": "stdout",
     "output_type": "stream",
     "text": [
      "3.700743415417188e-17\n"
     ]
    }
   ],
   "source": [
    "print(snrn_mm.mean())"
   ]
  },
  {
   "cell_type": "code",
   "execution_count": 6,
   "metadata": {},
   "outputs": [
    {
     "name": "stdout",
     "output_type": "stream",
     "text": [
      "1.0\n"
     ]
    }
   ],
   "source": [
    "print(snrn_mm.std())"
   ]
  },
  {
   "cell_type": "markdown",
   "metadata": {},
   "source": [
    "## 16.2 泛型模拟类"
   ]
  },
  {
   "cell_type": "markdown",
   "metadata": {},
   "source": [
    "* 泛型金融模型模拟类"
   ]
  },
  {
   "cell_type": "code",
   "execution_count": 8,
   "metadata": {},
   "outputs": [],
   "source": [
    "import numpy as np\n",
    "import pandas as pd\n",
    "\n",
    "\n",
    "class simulation_class(object):\n",
    "    \"\"\"\n",
    "    Providing base methods for simulation classes.\n",
    "    \"\"\"\n",
    "\n",
    "    def __init__(self, name, mar_env, corr):\n",
    "        \"\"\"\n",
    "        :param name: string\n",
    "            name of the object\n",
    "        :param mar_env: instance of market_environment\n",
    "            market environment data for simulation\n",
    "        :param corr: Boolean\n",
    "            True of correlated with other model object\n",
    "        \"\"\"\n",
    "        try:\n",
    "            self.name = name\n",
    "            self.pricing_data = mar_env.pricing_date\n",
    "            self.initial_value = mar_env.get_constant('initial_value')\n",
    "            self.volatility = mar_env.get_constant('volatility')\n",
    "            self.final_date = mar_env.get_constant('final_date')\n",
    "            self.currency = mar_env.get_constant('currency')\n",
    "            self.frequency = mar_env.get_constant('frequency')\n",
    "            self.paths = mar_env.get_constant('paths')\n",
    "            self.discount_curve = mar_env.get_curve('discount_curve')\n",
    "            try:\n",
    "                # if time_grid in mar_env take this\n",
    "                # (for portfolio valuation)\n",
    "                self.time_grid = mar_env.get_list('time_grid')\n",
    "            except:\n",
    "                self.time_grid = None\n",
    "            try:\n",
    "                # if there are special dates, then add these\n",
    "                self.special_dates = mar_env.get_list('special_dates')\n",
    "            except:\n",
    "                self.special_dates = []\n",
    "            self.instrument_values = None\n",
    "            self.correlated = corr\n",
    "            if corr:\n",
    "                # only needed in a portfolio context when\n",
    "                # risk factors are correlated\n",
    "                self.cholesky_matrix = mar_env.get_list('cholesky_matrix')\n",
    "                self.rn_set = mar_env.get_list('rn_set')[self.name]\n",
    "                self.random_numbers = mar_env.get_list('random_numbers')\n",
    "        except:\n",
    "            print(\"Error parsing market environment.\")\n",
    "\n",
    "    def generate_time_grid(self):\n",
    "        start = self.pricing_data\n",
    "        end = self.final_date\n",
    "        # pandas date_range function\n",
    "        # freq = e.g. 'B' for Business Day,\n",
    "        # 'W' for Weekly, 'M'for Monthly\n",
    "        time_grid = pd.date_range(start=start, end=end, freq=self.frequency).to_pydatetime()\n",
    "        time_grid = list(time_grid)\n",
    "        if start not in time_grid:\n",
    "            time_grid.insert(0, start)  # insert start date if not in list\n",
    "        if end not in time_grid:\n",
    "            time_grid.append(end)  # insert end date if not in list\n",
    "        if len(self.special_dates) > 0:\n",
    "            # add all special dates\n",
    "            time_grid.extend(self.special_dates)\n",
    "            # delete duplicates\n",
    "            time_grid = list(set(time_grid))\n",
    "            # sort list\n",
    "            time_grid.sort()\n",
    "        self.time_grid = np.array(time_grid)\n",
    "\n",
    "    def get_instrument_values(self, fixed_seed=True):\n",
    "        if self.instrument_values is None:\n",
    "            # only initiate simulation if there are no instrument values\n",
    "            self.generate_paths(fixed_seed=fixed_seed, day_count=365.)\n",
    "        elif fixed_seed is False:\n",
    "            # also initiate resimulation when fixed_seed is False\n",
    "            self.generate_paths(fixed_seed=fixed_seed, day_count=365.)\n",
    "        return self.instrument_values"
   ]
  },
  {
   "cell_type": "markdown",
   "metadata": {},
   "source": [
    "* 所有模拟类的市场环境元素"
   ]
  },
  {
   "cell_type": "markdown",
   "metadata": {},
   "source": [
    "| 元素            | 类型 | 强制 | 描述                                   |\n",
    "| --------------- | ---- | ---- | -------------------------------------- |\n",
    "| initial_value   | 常量 | 是   | pricing_date（定价日）时的过程初始值   |\n",
    "| volatility      | 常量 | 是   | 过程的波动性系数                       |\n",
    "| final_date      | 常量 | 是   | 模拟范围                               |\n",
    "| cuπency         | 常量 | 是   | 金融实体的货币                         |\n",
    "| fequency        | 常量 | 是   | 日期频率，和pandas freq参数相同        |\n",
    "| paths           | 常量 | 是   | 模拟路径数量                           |\n",
    "| discount_curve  | 曲线 | 是   | constant_short_rate 实例               |\n",
    "| time_grid       | 列表 | 否   | 相关日期的时间网格（在投资组合背景下） |\n",
    "| random_numbers  | 列表 | 否   | 随机数数组（用于相关对象）             |\n",
    "| cholesky_matrix | 列表 | 否   | Cholesky 矩阵（用于相关对象）          |\n",
    "| rn_set          | 列表 | 否   | 包含指向相关随机数值指针的字典对象     |"
   ]
  },
  {
   "cell_type": "markdown",
   "metadata": {},
   "source": [
    "## 16.3 几何布朗运动"
   ]
  },
  {
   "cell_type": "markdown",
   "metadata": {},
   "source": [
    "### 16.3.1 模拟类"
   ]
  },
  {
   "cell_type": "code",
   "execution_count": 9,
   "metadata": {},
   "outputs": [],
   "source": [
    "import numpy as np\n",
    "\n",
    "\n",
    "class geometric_brownian_motion(simulation_class):\n",
    "    \"\"\"\n",
    "    Class to generate simulated paths based on\n",
    "    the Black_Scholes-Merton geometric Brownian motion model.\n",
    "    \"\"\"\n",
    "\n",
    "    def __init__(self, name, mar_env, corr=False):\n",
    "        super(geometric_brownian_motion, self).__init__(name, mar_env, corr)\n",
    "\n",
    "    def update(self, initial_value=None, volatility=None, final_date=None):\n",
    "        if initial_value is not None:\n",
    "            self.initial_value = initial_value\n",
    "        if volatility is not None:\n",
    "            self.volatility = volatility\n",
    "        if final_date is not None:\n",
    "            self.final_date = final_date\n",
    "        self.instrument_values = None\n",
    "\n",
    "    def generate_paths(self, fixed_seed=False, day_count=365.):\n",
    "        if self.time_grid is None:\n",
    "            self.generate_time_grid()\n",
    "        M = len(self.time_grid)\n",
    "        I = self.paths\n",
    "        paths = np.zeros((M, I))\n",
    "        paths[0] = self.initial_value\n",
    "        if not self.correlated:\n",
    "            rand = sn_random_numbers((1, M, I), fixed_seed=fixed_seed)\n",
    "        else:\n",
    "            rand = self.random_numbers\n",
    "        short_rate = self.discount_curve.short_rate\n",
    "        for t in range(1, len(self.time_grid)):\n",
    "            if not self.correlated:\n",
    "                ran = rand[t]\n",
    "            else:\n",
    "                ran = np.dot(self.cholesky_matrix, rand[:, t, :])\n",
    "                rand = ran[self.rn_set]\n",
    "            dt = (self.time_grid[t] - self.time_grid[t - 1]).days / day_count\n",
    "            paths[t] = paths[t - 1] * np.exp((short_rate - 0.5 * self.volatility ** 2) * dt\n",
    "                                             + self.volatility * np.sqrt(dt) * ran)\n",
    "        self.instrument_values = paths"
   ]
  },
  {
   "cell_type": "markdown",
   "metadata": {},
   "source": [
    "### 16.3.2 用例"
   ]
  },
  {
   "cell_type": "code",
   "execution_count": 13,
   "metadata": {},
   "outputs": [
    {
     "name": "stdout",
     "output_type": "stream",
     "text": [
      "[datetime.datetime(2018, 1, 1, 0, 0) datetime.datetime(2018, 1, 31, 0, 0)\n",
      " datetime.datetime(2018, 2, 28, 0, 0) datetime.datetime(2018, 3, 31, 0, 0)\n",
      " datetime.datetime(2018, 4, 30, 0, 0) datetime.datetime(2018, 5, 31, 0, 0)\n",
      " datetime.datetime(2018, 6, 30, 0, 0) datetime.datetime(2018, 7, 31, 0, 0)\n",
      " datetime.datetime(2018, 8, 31, 0, 0) datetime.datetime(2018, 9, 30, 0, 0)\n",
      " datetime.datetime(2018, 10, 31, 0, 0)\n",
      " datetime.datetime(2018, 11, 30, 0, 0)\n",
      " datetime.datetime(2018, 12, 31, 0, 0)]\n",
      "CPU times: user 8.66 ms, sys: 2.52 ms, total: 11.2 ms\n",
      "Wall time: 4.72 ms\n",
      "[[36.         36.         36.         ... 36.         36.\n",
      "  36.        ]\n",
      " [37.37221481 38.08890977 34.37156575 ... 36.22258915 35.05503522\n",
      "  39.63544014]\n",
      " [39.45866146 42.18817025 32.38579992 ... 34.80319951 33.60600939\n",
      "  37.62733874]\n",
      " ...\n",
      " [40.15717404 33.16701733 23.32556112 ... 37.5619937  29.89282508\n",
      "  30.2202427 ]\n",
      " [42.0974104  36.59006321 21.70771374 ... 35.70950512 30.64670854\n",
      "  30.45901309]\n",
      " [43.33170027 37.42993532 23.8840177  ... 35.92624556 27.87720187\n",
      "  28.77424561]]\n",
      "CPU times: user 15 ms, sys: 772 µs, total: 15.8 ms\n",
      "Wall time: 4.24 ms\n"
     ]
    }
   ],
   "source": [
    "from dx import *\n",
    "\n",
    "me_gbm = market_environment('me_gbm', dt.datetime(2018, 1, 1))\n",
    "me_gbm.add_constant('initial_value', 36.)\n",
    "me_gbm.add_constant('volatility', 0.2)\n",
    "me_gbm.add_constant('final_date', dt.datetime(2018, 12, 31))\n",
    "me_gbm.add_constant('currency', 'EUR')\n",
    "me_gbm.add_constant('frequency', 'M')\n",
    "me_gbm.add_constant('paths', 10000)\n",
    "csr = constant_short_rate('csr', 0.05)\n",
    "me_gbm.add_curve('discount_curve', csr)\n",
    "\n",
    "gbm = geometric_brownian_motion('gbm', me_gbm)\n",
    "gbm.generate_time_grid()\n",
    "print(gbm.time_grid)\n",
    "%time paths_1 = gbm.get_instrument_values()\n",
    "print(paths_1)\n",
    "gbm.update(volatility=0.5)\n",
    "%time paths_2 = gbm.get_instrument_values()"
   ]
  },
  {
   "cell_type": "markdown",
   "metadata": {},
   "source": [
    "* GBM 模拟类中的模拟路程"
   ]
  },
  {
   "cell_type": "code",
   "execution_count": 17,
   "metadata": {},
   "outputs": [],
   "source": [
    "import matplotlib.pyplot as plt\n",
    "\n",
    "plt.figure(figsize=(8, 6))\n",
    "p1 = plt.plot(gbm.time_grid, paths_1[:, :10], 'b')\n",
    "p2 = plt.plot(gbm.time_grid, paths_2[:, :10], 'r-.')\n",
    "plt.grid(True)\n",
    "l1 = plt.legend([p1[0], p2[0]], ['low volatility', 'high volatility'], loc=2)\n",
    "plt.gca().add_artist(l1)\n",
    "plt.xticks(rotation=30)\n",
    "plt.show()"
   ]
  },
  {
   "cell_type": "markdown",
   "metadata": {},
   "source": [
    "## 16.4 跳跃扩散"
   ]
  },
  {
   "cell_type": "markdown",
   "metadata": {},
   "source": [
    "### 16.4.1 模拟类"
   ]
  },
  {
   "cell_type": "code",
   "execution_count": 18,
   "metadata": {},
   "outputs": [],
   "source": [
    "class jump_diffusion(simulation_class):\n",
    "    ''' Class to generate simulated paths based on\n",
    "    the Merton (1976) jump diffusion model.\n",
    "\n",
    "    Attributes\n",
    "    ==========\n",
    "    name : string\n",
    "        name of the object\n",
    "    mar_env : instance of market_environment\n",
    "        market environment data for simulation\n",
    "    corr : boolean\n",
    "        True if correlated with other model object\n",
    "\n",
    "    Methods\n",
    "    =======\n",
    "    update :\n",
    "        updates parameters\n",
    "    generate_paths :\n",
    "        returns Monte Carlo paths given the market environment\n",
    "    '''\n",
    "\n",
    "    def __init__(self, name, mar_env, corr=False):\n",
    "        super(jump_diffusion, self).__init__(name, mar_env, corr)\n",
    "        try:\n",
    "            self.lamb = mar_env.get_constant('lambda')\n",
    "            self.mu = mar_env.get_constant('mu')\n",
    "            self.delt = mar_env.get_constant('delta')\n",
    "        except:\n",
    "            print('Error parsing market environment.')\n",
    "\n",
    "    def update(self, pricing_date=None, initial_value=None,\n",
    "               volatility=None, lamb=None, mu=None, delta=None,\n",
    "               final_date=None):\n",
    "        if pricing_date is not None:\n",
    "            self.pricing_date = pricing_date\n",
    "            self.time_grid = None\n",
    "            self.generate_time_grid()\n",
    "        if initial_value is not None:\n",
    "            self.initial_value = initial_value\n",
    "        if volatility is not None:\n",
    "            self.volatility = volatility\n",
    "        if lamb is not None:\n",
    "            self.lamb = lamb\n",
    "        if mu is not None:\n",
    "            self.mu = mu\n",
    "        if delta is not None:\n",
    "            self.delt = delta\n",
    "        if final_date is not None:\n",
    "            self.final_date = final_date\n",
    "        self.instrument_values = None\n",
    "\n",
    "    def generate_paths(self, fixed_seed=False, day_count=365.):\n",
    "        if self.time_grid is None:\n",
    "            self.generate_time_grid()\n",
    "            # method from generic model simulation class\n",
    "        # number of dates for time grid\n",
    "        M = len(self.time_grid)\n",
    "        # number of paths\n",
    "        I = self.paths\n",
    "        # array initialization for path simulation\n",
    "        paths = np.zeros((M, I))\n",
    "        # initialize first date with initial_value\n",
    "        paths[0] = self.initial_value\n",
    "        if self.correlated is False:\n",
    "            # if not correlated generate random numbers\n",
    "            sn1 = sn_random_numbers((1, M, I),\n",
    "                                    fixed_seed=fixed_seed)\n",
    "        else:\n",
    "            # if correlated use random number object as provided\n",
    "            # in market environment\n",
    "            sn1 = self.random_numbers\n",
    "\n",
    "        # Standard normally distributed seudo-random numbers\n",
    "        # for the jump component\n",
    "        sn2 = sn_random_numbers((1, M, I),\n",
    "                                fixed_seed=fixed_seed)\n",
    "\n",
    "        forward_rates = self.discount_curve.get_forward_rates(\n",
    "            self.time_grid, self.paths, dtobjects=True)[1]\n",
    "\n",
    "        rj = self.lamb * (np.exp(self.mu + 0.5 * self.delt ** 2) - 1)\n",
    "        for t in range(1, len(self.time_grid)):\n",
    "                        # select the right time slice from the relevant\n",
    "            # random number set\n",
    "            if self.correlated is False:\n",
    "                ran = sn1[t]\n",
    "            else:\n",
    "                # only with correlation in portfolio context\n",
    "                ran = np.dot(self.cholesky_matrix, sn1[:, t, :])\n",
    "                ran = ran[self.rn_set]\n",
    "            dt = (self.time_grid[t] - self.time_grid[t - 1]).days / day_count\n",
    "            # difference between two dates as year fraction\n",
    "            poi = np.random.poisson(self.lamb * dt, I)\n",
    "            # Poisson distributed pseudo-random numbers for jump component\n",
    "            rt = (forward_rates[t - 1] + forward_rates[t]) / 2\n",
    "            paths[t] = paths[t - 1] * (\n",
    "                np.exp((rt - rj - 0.5 * self.volatility ** 2) * dt +\n",
    "                       self.volatility * np.sqrt(dt) * ran) +\n",
    "                (np.exp(self.mu + self.delt * sn2[t]) - 1) * poi)\n",
    "        self.instrument_values = paths"
   ]
  },
  {
   "cell_type": "markdown",
   "metadata": {},
   "source": [
    "* jump_diffusion 类的特殊市场环境元素"
   ]
  },
  {
   "cell_type": "markdown",
   "metadata": {},
   "source": [
    "| 元素   | 类型 | 强制 | 描述                   |\n",
    "| ------ | ---- | ---- | ---------------------- |\n",
    "| lambda | 常量 | 是   | 跳跃密度（概率、按年） |\n",
    "| mu     | 常量 | 是   | 预期跳跃规律           |\n",
    "| delta  | 常量 | 是   | 跳跃规律的标准差       |"
   ]
  },
  {
   "cell_type": "markdown",
   "metadata": {},
   "source": [
    "### 16.4.2 用例"
   ]
  },
  {
   "cell_type": "code",
   "execution_count": 20,
   "metadata": {},
   "outputs": [
    {
     "name": "stdout",
     "output_type": "stream",
     "text": [
      "CPU times: user 32.7 ms, sys: 3.69 ms, total: 36.4 ms\n",
      "Wall time: 12.3 ms\n",
      "CPU times: user 43.9 ms, sys: 2.31 ms, total: 46.3 ms\n",
      "Wall time: 11.7 ms\n"
     ]
    }
   ],
   "source": [
    "me_jd = market_environment('me_jd', dt.datetime(2018, 1, 1))\n",
    "me_jd.add_constant('lambda', 0.3)\n",
    "me_jd.add_constant('mu', -0.75)\n",
    "me_jd.add_constant('delta', 0.1)\n",
    "me_jd.add_environment(me_gbm)\n",
    "jd = jump_diffusion('jd', me_jd)\n",
    "\n",
    "%time paths_3 = jd.get_instrument_values()\n",
    "# Wall time: 21 ms\n",
    "\n",
    "jd.update(lamb=0.9)\n",
    "%time paths_4 = jd.get_instrument_values()\n",
    "# Wall time: 19 ms\n",
    "\n",
    "plt.figure(figsize=(8, 6))\n",
    "p1 = plt.plot(gbm.time_grid, paths_3[:, :10], 'b')\n",
    "p2 = plt.plot(gbm.time_grid, paths_4[:, :10], 'r-.')\n",
    "plt.grid(True)\n",
    "l1 = plt.legend([p1[0], p2[0]], ['low volatility', 'high volatility'], loc=2)\n",
    "plt.gca().add_artist(l1)\n",
    "plt.xticks(rotation=30)\n",
    "plt.show()"
   ]
  },
  {
   "cell_type": "code",
   "execution_count": null,
   "metadata": {},
   "outputs": [],
   "source": []
  }
 ],
 "metadata": {
  "kernelspec": {
   "display_name": "Python 3",
   "language": "python",
   "name": "python3"
  },
  "language_info": {
   "codemirror_mode": {
    "name": "ipython",
    "version": 3
   },
   "file_extension": ".py",
   "mimetype": "text/x-python",
   "name": "python",
   "nbconvert_exporter": "python",
   "pygments_lexer": "ipython3",
   "version": "3.7.6"
  }
 },
 "nbformat": 4,
 "nbformat_minor": 1
}