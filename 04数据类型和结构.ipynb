{
 "cells": [
  {
   "cell_type": "markdown",
   "metadata": {
    "collapsed": true
   },
   "source": [
    "# 第4章 数据类型和结构"
   ]
  },
  {
   "cell_type": "markdown",
   "metadata": {},
   "source": [
    "## 4.1 基本数据类型"
   ]
  },
  {
   "cell_type": "markdown",
   "metadata": {},
   "source": [
    "### 4.1.1 整数"
   ]
  },
  {
   "cell_type": "code",
   "execution_count": 1,
   "metadata": {},
   "outputs": [
    {
     "data": {
      "text/plain": "333"
     },
     "execution_count": 1,
     "metadata": {},
     "output_type": "execute_result"
    }
   ],
   "source": [
    "a = 10\n",
    "type(a)  # int\n",
    "# 调用 blt_length 方法， 获得表现 int 对象所需的位数\n",
    "a.bit_length()  # 4\n",
    "a = 100000\n",
    "# 对象所赋的整数值越大， 需要的位数越多\n",
    "a.bit_length()  # 17\n",
    "googol = 10 ** 100\n",
    "googol.bit_length()  # 333"
   ]
  },
  {
   "cell_type": "markdown",
   "metadata": {},
   "source": [
    "### 4.1.2 浮点数"
   ]
  },
  {
   "cell_type": "code",
   "execution_count": 2,
   "metadata": {},
   "outputs": [
    {
     "data": {
      "text/plain": "0.44999999999999996"
     },
     "execution_count": 2,
     "metadata": {},
     "output_type": "execute_result"
    }
   ],
   "source": [
    "type(1 / 4)  # float\n",
    "b = 0.35\n",
    "type(b)  # float\n",
    "b + 0.1  # 0.44999999999999996"
   ]
  },
  {
   "cell_type": "markdown",
   "metadata": {},
   "source": [
    "### 4.1.3 字符串"
   ]
  },
  {
   "cell_type": "code",
   "execution_count": 3,
   "metadata": {},
   "outputs": [
    {
     "data": {
      "text/plain": "'www.python.org'"
     },
     "execution_count": 3,
     "metadata": {},
     "output_type": "execute_result"
    }
   ],
   "source": [
    "t = 'this is a string object'\n",
    "t.capitalize()  # 'This is a string object'\n",
    "t.split()  # ['this', 'is', 'a', 'string', 'object']\n",
    "t.find('string')  # 10\n",
    "t.find('Python')  # -1\n",
    "t.replace(' ', '|')  # 'this|is|a|string|object'\n",
    "'http://www.python.org'.strip('htp:/')  # 'www.python.org'"
   ]
  },
  {
   "cell_type": "markdown",
   "metadata": {},
   "source": [
    "* 字符串方法"
   ]
  },
  {
   "cell_type": "markdown",
   "metadata": {},
   "source": [
    "| 方法       | 参数                                    | 返回/结果                                       |\n",
    "| ---------- | --------------------------------------- | ----------------------------------------------- |\n",
    "| cpitalize  | ()                                      | 复制字符串，将第一个字符改成大写                |\n",
    "| count      | sub[,star[,end]])                       | 计算子字符串出现的次数                          |\n",
    "| decode     | [encoding[,errors]])                    | 用encoding指定的编码方式（例如UTF-8）解码字将串 |\n",
    "| encode     | ([encoding[,errors]])                   | 字符串编码形式                                  |\n",
    "| find       | (sub[,start[,end]])                     | 找到的子字符串（最低）索引                      |\n",
    "| join       | (seq)                                   | 连接seq序列中的字符串                           |\n",
    "| replace    | (old,new[,count]) 用new替换前count个old |                                                 |\n",
    "| split      | ([sep[,maxsplit]])                      | 字符串中的单词列表，以sep作为分隔符             |\n",
    "| splitlines | ([keepends])                            | 如果keepends为真,以行结束符/换行符分隔的行      |\n",
    "| strip      | (chars)                                 | 从字符串首／尾删除chars中的字符                 |\n",
    "| upper      | ()                                      | 复制字符串 ， 所有字母政为大写                  |"
   ]
  },
  {
   "cell_type": "markdown",
   "metadata": {},
   "source": [
    "* 正则表达式"
   ]
  },
  {
   "cell_type": "code",
   "execution_count": 4,
   "metadata": {},
   "outputs": [
    {
     "name": "stdout",
     "output_type": "stream",
     "text": [
      "2014-01-18 13:00:00\n"
     ]
    }
   ],
   "source": [
    "import re\n",
    "\n",
    "series = \"\"\"\n",
    "'01/18/2014 13:00:00',100,'1st;\n",
    "'01/18/2014 13:30:00',110,'snd;\n",
    "'01/18/2014 14:00:00',120,'3rd;\n",
    "\"\"\"\n",
    "dt = re.compile(\"'[0-9/:\\s]+'\")  # 正则两边的单引号必须有，不然匹配的结果都散了\n",
    "result = dt.findall(series)\n",
    "# [\"'01/18/2014 13:00:00'\", \"'01/18/2014 13:30:00'\", \"'01/18/2014 14:00:00'\"]\n",
    "\n",
    "from datetime import datetime\n",
    "\n",
    "pydt = datetime.strptime(result[0].replace(\"'\", \"\"), '%m/%d/%Y %H:%M:%S')\n",
    "print(pydt)  # 2014-01-18 13:00:00"
   ]
  },
  {
   "cell_type": "markdown",
   "metadata": {},
   "source": [
    "## 4.2 基本数据结构"
   ]
  },
  {
   "cell_type": "markdown",
   "metadata": {},
   "source": [
    "### 4.2.1 元组"
   ]
  },
  {
   "cell_type": "code",
   "execution_count": 5,
   "metadata": {},
   "outputs": [
    {
     "data": {
      "text/plain": "2"
     },
     "execution_count": 5,
     "metadata": {},
     "output_type": "execute_result"
    }
   ],
   "source": [
    "t = (1, 2.5, 'data')\n",
    "type(t)  # tuple\n",
    "t = 1, 2.5, 'data'  # 可以去掉括号\n",
    "type(t)  # tuple\n",
    "# Python使用零起点编号，元组的第3个元素在索引位置2上\n",
    "t[2]  # 'data'\n",
    "type(t[2])  # str\n",
    "t.count('data')  # 1\n",
    "t.index('data')  # 2"
   ]
  },
  {
   "cell_type": "markdown",
   "metadata": {},
   "source": [
    "### 4.2.2 列表"
   ]
  },
  {
   "cell_type": "code",
   "execution_count": 6,
   "metadata": {},
   "outputs": [
    {
     "name": "stdout",
     "output_type": "stream",
     "text": [
      "[1, 'insert', 2.5, 4, 3, 'data'] [4, 3]\n"
     ]
    }
   ],
   "source": [
    "l = [1, 2.5, 'data']\n",
    "l.append([4, 3])  # [1, 2.5, 'data', [4, 3]]\n",
    "l.extend([4, 3])  # [1, 2.5, 'data', [4, 3], 4, 3]\n",
    "l.insert(1, 'insert')  # [1, 'insert', 2.5, 'data', [4, 3], 4, 3]\n",
    "l.append('data')  # [1, 'insert', 2.5, 'data', [4, 3], 4, 3, 'data']\n",
    "l.remove('data')  # [1, 'insert', 2.5, [4, 3], 4, 3, 'data'] 移除了第一个匹配的，如果不存在会报错\n",
    "p = l.pop(3)\n",
    "print(l, p)  # [1, 'insert', 2.5, 4, 3, 'data'] [4, 3]\n",
    "del l[0]  # ['insert', 2.5, 4, 3, 'data']"
   ]
  },
  {
   "cell_type": "markdown",
   "metadata": {},
   "source": [
    "* 切片操作"
   ]
  },
  {
   "cell_type": "code",
   "execution_count": 7,
   "metadata": {},
   "outputs": [
    {
     "data": {
      "text/plain": "[2.5, 1.0, 1.5]"
     },
     "execution_count": 7,
     "metadata": {},
     "output_type": "execute_result"
    }
   ],
   "source": [
    "l = [1, 'insert', 2.5, 1.0, 1.5, 2.0]\n",
    "l[2:5]  # 3rd to 5th elements ['data', [4, 3], 4]\n",
    "# [2.5, 1.0, 1.5]"
   ]
  },
  {
   "cell_type": "markdown",
   "metadata": {},
   "source": [
    "* 列表对象操作和方法"
   ]
  },
  {
   "cell_type": "markdown",
   "metadata": {},
   "source": [
    "| 方法         | 参数                   | 返回/结果                             |\n",
    "| ------------ | ---------------------- | ------------------------------------- |\n",
    "| l[i]=x       | [i]                    | 用x代替第i个元素                      |\n",
    "| l[i:j:k]=s   | [i:j:k]                | 用s代替从i到j-1号元素中的每第k个元素  |\n",
    "| append       | (x)                    | 在对象后附加x                         |\n",
    "| count        | (x)                    | 对象x出现的次数                       |\n",
    "| del l[i:j:k] | [i:j:k]                | 删除索引值从i到j-1号元素的每第k个元素 |\n",
    "| extend       | (s)                    | 将s的所有元素附加到对象               |\n",
    "| index        | (x[,i[,j]])            | 元素i和j-1之间第一个x的索引           |\n",
    "| insert       | (i,x)++                | 在索引i之前插入x                      |\n",
    "| remove       | (i)                    | 删除索引为i的元素                     |\n",
    "| pop          | (i)                    | 删除索引为i的元素并返回               |\n",
    "| reverse      | ()                     | 颠倒所有项目的顺序                    |\n",
    "| sort         | (cmp,[,key[,reverse]]) | 排序所有项目                          |"
   ]
  },
  {
   "cell_type": "markdown",
   "metadata": {},
   "source": [
    "### 4.2.5 字典"
   ]
  },
  {
   "cell_type": "code",
   "execution_count": 8,
   "metadata": {},
   "outputs": [
    {
     "name": "stdout",
     "output_type": "stream",
     "text": [
      "Angela Merkel 60\n",
      "61\n",
      "('Name', 'Angela Merkel')\n",
      "('Country', 'Germany')\n",
      "('Profession', 'Chancelor')\n",
      "('Age', 61)\n",
      "<class 'str'>\n",
      "<class 'str'>\n",
      "<class 'str'>\n",
      "<class 'int'>\n"
     ]
    }
   ],
   "source": [
    "d = {\n",
    "    'Name': 'Angela Merkel',\n",
    "    'Country': 'Germany',\n",
    "    'Profession': 'Chancelor',\n",
    "    'Age': 60\n",
    "}\n",
    "type(d)  # dict\n",
    "print(d['Name'], d['Age'])  # Angela Merkel 60\n",
    "d.items()\n",
    "# dict_items([('Name', 'Angela Merkel'), ('Country', 'Germany'), ('Profession', 'Chancelor'), ('Age', 60)])\n",
    "birthday = True\n",
    "if birthday is True:\n",
    "    d['Age'] += 1\n",
    "print(d['Age'])  # 61\n",
    "\n",
    "for item in d.items():\n",
    "    print(item)\n",
    "# ('Name', 'Angela Merkel')\n",
    "# ('Country', 'Germany')\n",
    "# ('Profession', 'Chancelor')\n",
    "# ('Age', 61)\n",
    "\n",
    "for value in d.values():\n",
    "    print(type(value))\n",
    "# <class 'str'>\n",
    "# <class 'str'>\n",
    "# <class 'str'>\n",
    "# <class 'int'>"
   ]
  },
  {
   "cell_type": "markdown",
   "metadata": {},
   "source": [
    "* 字典对象精选操作和方法"
   ]
  },
  {
   "cell_type": "markdown",
   "metadata": {},
   "source": [
    "| 方法     | 参数  | 返回/结果                 |\n",
    "| -------- | ----- | ------------------------- |\n",
    "| d[k]     | [k]   | d中键码为k的项目          |\n",
    "| d[k]=x   | [k]   | 将键码为k的项目设置为x    |\n",
    "| del d[k] | [k]   | 删除键码为k的项目         |\n",
    "| clear    | ()    | 删除所有项目              |\n",
    "| copy     | ()    | 创建一个拷贝              |\n",
    "| has_key  | (k)   | 如果k是一个键码，为真     |\n",
    "| items    | ()    | 所有键-值对的拷贝         |\n",
    "| keys     | ()    | 所有键码的拷贝            |\n",
    "| popitem  | (k)   | 返回并删除键码为k的项目   |\n",
    "| update   | ([e]) | 用来自e的项目更新字典项目 |\n",
    "| values   | ()    | 所有值得拷贝              |"
   ]
  },
  {
   "cell_type": "markdown",
   "metadata": {},
   "source": [
    "### 4.2.6 集合"
   ]
  },
  {
   "cell_type": "code",
   "execution_count": 9,
   "metadata": {},
   "outputs": [
    {
     "data": {
      "text/plain": "{0, 1, 2, 3, 4, 5, 6, 7, 8, 9, 10}"
     },
     "execution_count": 9,
     "metadata": {},
     "output_type": "execute_result"
    }
   ],
   "source": [
    "s = set(['u', 'd', 'ud', 'du', 'd', 'du'])  # {'d', 'du', 'u', 'ud'}\n",
    "t = set(['d', 'dd', 'uu', 'u'])\n",
    "s.union(t)  # all of s and t {'d', 'dd', 'du', 'u', 'ud', 'uu'}\n",
    "s.intersection(t)  # both in s and t  {'d', 'u'}\n",
    "s.difference(t)  # in s but not t  {'du', 'ud'}\n",
    "t.difference(s)  # {'dd', 'uu'}\n",
    "s.symmetric_difference(t)  # in either one but not both  {'dd', 'du', 'ud', 'uu'}\n",
    "\n",
    "from random import randint\n",
    "\n",
    "l = [randint(0, 10) for i in range(1000)]\n",
    "l[:20]  # [6, 5, 4, 10, 1, 1, 6, 0, 2, 0, 5, 3, 3, 4, 6, 7, 2, 0, 3, 2]\n",
    "s = set(l)\n",
    "s  # {0, 1, 2, 3, 4, 5, 6, 7, 8, 9, 10}"
   ]
  },
  {
   "cell_type": "markdown",
   "metadata": {},
   "source": [
    "## 4.3 NumPy数据结构"
   ]
  },
  {
   "cell_type": "markdown",
   "metadata": {},
   "source": [
    "### 4.3.1 用 Pyhon 列表形成数组"
   ]
  },
  {
   "cell_type": "code",
   "execution_count": 10,
   "metadata": {},
   "outputs": [
    {
     "data": {
      "text/plain": "[[0.5, 0.75, 1.0, 1.5, 2.0],\n [0.5, 0.75, 1.0, 1.5, 2.0],\n [0.5, 0.75, 1.0, 1.5, 2.0]]"
     },
     "execution_count": 10,
     "metadata": {},
     "output_type": "execute_result"
    }
   ],
   "source": [
    "v = [0.5, 0, 75, 1, 0, 1.5, 2.0]  # vector of numbers\n",
    "m = [v, v, v]  # matrix of numbers\n",
    "# [[0.5, 0, 75, 1, 0, 1.5, 2.0],\n",
    "#  [0.5, 0, 75, 1, 0, 1.5, 2.0],\n",
    "#  [0.5, 0, 75, 1, 0, 1.5, 2.0]]\n",
    "m[1]  # [0.5, 0, 75, 1, 0, 1.5, 2.0]\n",
    "m[1][0]  # 0.5\n",
    "\n",
    "v1 = [0.5, 1.5]\n",
    "v2 = [1, 2]\n",
    "m = [v1, v2]  # [[0.5, 1.5], [1, 2]]\n",
    "c = [m, m]  # cube of numbers  [[[0.5, 1.5], [1, 2]], [[0.5, 1.5], [1, 2]]]\n",
    "c[1][1][0]  # 1\n",
    "\n",
    "v = [0.5, 0, 75, 1, 0, 1.5, 2.0]  # vector of numbers\n",
    "m = [v, v, v]  # matrix of numbers\n",
    "# [[0.5, 0, 75, 1, 0, 1.5, 2.0],\n",
    "#  [0.5, 0, 75, 1, 0, 1.5, 2.0],\n",
    "#  [0.5, 0, 75, 1, 0, 1.5, 2.0]]\n",
    "v[0] = 'Python'\n",
    "m\n",
    "# [['Python', 0, 75, 1, 0, 1.5, 2.0],\n",
    "#  ['Python', 0, 75, 1, 0, 1.5, 2.0],\n",
    "#  ['Python', 0, 75, 1, 0, 1.5, 2.0]]\n",
    "# 使用copy模块的deepcopy函数可以避免这一现象\n",
    "from copy import deepcopy\n",
    "\n",
    "v = [0.5, 0.75, 1.0, 1.5, 2.0]\n",
    "m = 3 * [deepcopy(v)]\n",
    "m\n",
    "# [[0.5, 0.75, 1.0, 1.5, 2.0],\n",
    "#  [0.5, 0.75, 1.0, 1.5, 2.0],\n",
    "#  [0.5, 0.75, 1.0, 1.5, 2.0]]\n",
    "\n",
    "v[0] = 'Python'\n",
    "m\n",
    "# [[0.5, 0.75, 1.0, 1.5, 2.0],\n",
    "#  [0.5, 0.75, 1.0, 1.5, 2.0],\n",
    "#  [0.5, 0.75, 1.0, 1.5, 2.0]]"
   ]
  },
  {
   "cell_type": "markdown",
   "metadata": {},
   "source": [
    "### 4.3.2 常规NumPy数组"
   ]
  },
  {
   "cell_type": "code",
   "execution_count": 11,
   "metadata": {},
   "outputs": [],
   "source": [
    "import numpy as np\n",
    "\n",
    "a = np.array([0, 0.5, 1.0, 1.5, 2.0])\n",
    "type(a)  # numpy.ndarray\n",
    "a[:2]  # indexing as with list objects in 1 dimension\n",
    "# array([ 0. ,  0.5])\n",
    "\n",
    "a.sum()  # sum of all elements\n",
    "# 5.0\n",
    "a.std()  # standard deviation\n",
    "# 0.70710678118654757\n",
    "a.cumsum()  # running cumulative sum\n",
    "# array([ e. , 0.5, 1.5, 3. , 5. ])\n",
    "a * 2\n",
    "# array([ 0.,  1.,  2.,  3.,  4.])\n",
    "a ** 2\n",
    "# array([ 0.  ,  0.25,  1.  ,  2.25,  4.  ])\n",
    "np.sqrt(a)\n",
    "# array([ 0.        ,  0.70710678,  1.        ,  1.22474487,  1.41421356])\n",
    "\n",
    "b = np.array([a, a * 2])\n",
    "# array([[ 0. ,  0.5,  1. ,  1.5,  2. ],\n",
    "#        [ 0. ,  1. ,  2. ,  3. ,  4. ]])\n",
    "b[0]\n",
    "# array([ 0. ,  0.5,  1. ,  1.5,  2. ])\n",
    "\n",
    "b[0, 2]  # third element of first row\n",
    "# 1.0\n",
    "b.sum()\n",
    "# 15.0\n",
    "\n",
    "b.sum(axis=0)\n",
    "# sum along axis 0， i.e. column-wise sum\n",
    "# array([ 0. ,  1.5,  3. ,  4.5,  6. ])\n",
    "\n",
    "b.sum(axis=1)\n",
    "# sum along axis 11 i.e. row-wise sum\n",
    "# array([  5.,  10.])\n",
    "\n",
    "c = np.zeros((2, 3, 4), dtype='i', order='C')\n",
    "# array([[[0, 0, 0, 0],\n",
    "#         [0, 0, 0, 0],\n",
    "#         [0, 0, 0, 0]],\n",
    "#        [[0, 0, 0, 0],\n",
    "#         [0, 0, 0, 0],\n",
    "#         [0, 0, 0, 0]]], dtype=int32)\n",
    "\n",
    "d = np.ones_like(c, dtype='float16', order='C')\n",
    "# array([[[ 1.,  1.,  1.,  1.],\n",
    "#         [ 1.,  1.,  1.,  1.],\n",
    "#         [ 1.,  1.,  1.,  1.]],\n",
    "#        [[ 1.,  1.,  1.,  1.],\n",
    "#         [ 1.,  1.,  1.,  1.],\n",
    "#         [ 1.,  1.,  1.,  1.]]], dtype=float16)"
   ]
  },
  {
   "cell_type": "markdown",
   "metadata": {},
   "source": [
    "### 4.3.3 结构数组"
   ]
  },
  {
   "cell_type": "code",
   "execution_count": 12,
   "metadata": {},
   "outputs": [
    {
     "data": {
      "text/plain": "53"
     },
     "execution_count": 12,
     "metadata": {},
     "output_type": "execute_result"
    }
   ],
   "source": [
    "dt = np.dtype([('Name', 'S10'), ('Age', 'i4'), ('Height', 'f'), ('Children/Pets', 'i4', 2)])\n",
    "s = np.array([('Smith', 45, 1.83, (0, 1)),\n",
    "              ('Jones', 53, 1.72, (2, 2))], dtype=dt)\n",
    "s\n",
    "# array([(b'Smith', 45,  1.83000004, [0, 1]),\n",
    "#        (b'Jones', 53,  1.72000003, [2, 2])],\n",
    "#       dtype=[('Name', 'S10'), ('Age', '<i4'), ('Height', '<f4'), ('Children/Pets', '<i4', (2,))])\n",
    "\n",
    "s['Name']\n",
    "# array([b'Smith', b'Jones'],\n",
    "#       dtype='|S10')\n",
    "s['Height'].mean()\n",
    "# 1.7750001\n",
    "s[1]['Age']\n",
    "# 53"
   ]
  },
  {
   "cell_type": "markdown",
   "metadata": {},
   "source": [
    "## 4.4 代码向量化"
   ]
  },
  {
   "cell_type": "code",
   "execution_count": 13,
   "metadata": {},
   "outputs": [
    {
     "data": {
      "text/plain": "array([[ 7.25790885,  2.37863844,  3.27296117],\n       [-1.84499004,  4.24901217, -0.46981423],\n       [ 5.93149192,  1.08950548,  2.63777532],\n       [ 6.8162141 ,  3.73219093,  4.27919486]])"
     },
     "execution_count": 13,
     "metadata": {},
     "output_type": "execute_result"
    }
   ],
   "source": [
    "r = np.random.standard_normal((4, 3))\n",
    "r\n",
    "# array([[-0.86142195, -1.10576948, -1.72895607],\n",
    "#        [-0.52694343,  0.885586  ,  2.09117311],\n",
    "#        [ 1.17578779, -0.81735752, -0.79021266],\n",
    "#        [-0.16469963,  2.31507942,  0.17910542]])\n",
    "\n",
    "s = np.random.standard_normal((4, 3))\n",
    "s\n",
    "# array([[-0.40514995,  0.21406042, -0.89967644],\n",
    "#        [ 1.98133139, -2.29530214,  0.23899185],\n",
    "#        [-1.5984521 , -0.37488275,  1.52037602],\n",
    "#        [ 0.53853487,  0.79409684, -1.07606899]])\n",
    "r + s\n",
    "# array([[-1.2665719 , -0.89170906, -2.62863251],\n",
    "#        [ 1.45438796, -1.40971615,  2.33016495],\n",
    "#        [-0.42266431, -1.19224027,  0.73016336],\n",
    "#        [ 0.37383524,  3.10917626, -0.89696358]])\n",
    "\n",
    "# NuinPy还支持所谓的广播\n",
    "2 * r + 3\n",
    "# array([[ 1.2771561 ,  0.78846104, -0.45791214],\n",
    "#        [ 1.94611314,  4.77117199,  7.18234622],\n",
    "#        [ 5.35157558,  1.36528496,  1.41957468],\n",
    "#        [ 2.67060074,  7.63015885,  3.35821083]])\n",
    "s=np.random.standard_normal(3)\n",
    "# array([-0.97683636,  0.26286729, -1.17060774])\n",
    "r\n",
    "# array([[-0.86142195, -1.10576948, -1.72895607],\n",
    "#        [-0.52694343,  0.885586  ,  2.09117311],\n",
    "#        [ 1.17578779, -0.81735752, -0.79021266],\n",
    "#        [-0.16469963,  2.31507942,  0.17910542]])\n",
    "r + s\n",
    "# array([[-0.86142195, -1.10576948, -1.72895607],\n",
    "#        [-0.52694343,  0.885586  ,  2.09117311],\n",
    "#        [ 1.17578779, -0.81735752, -0.79021266],\n",
    "#        [-0.16469963,  2.31507942,  0.17910542]])\n",
    "# r和s的第一行相加\n",
    "r.transpose()  # 转置\n",
    "# array([[-0.86142195, -0.52694343,  1.17578779, -0.16469963],\n",
    "#        [-1.10576948,  0.885586  , -0.81735752,  2.31507942],\n",
    "#        [-1.72895607,  2.09117311, -0.79021266,  0.17910542]])\n",
    "np.shape(r.T)  # (3, 4)\n",
    "\n",
    "\n",
    "def f(x):\n",
    "    return 3 * x + 5\n",
    "\n",
    "f(0.5)  # 6.5\n",
    "f(r)\n",
    "# array([[  2.41573416,   1.68269156,  -0.1868682 ],\n",
    "#        [  3.41916971,   7.65675799,  11.27351933],\n",
    "#        [  8.52736337,   2.54792744,   2.62936202],\n",
    "#        [  4.50590111,  11.94523827,   5.53731625]])"
   ]
  },
  {
   "cell_type": "markdown",
   "metadata": {},
   "source": [
    "## 4.5 内存布局"
   ]
  },
  {
   "cell_type": "code",
   "execution_count": 14,
   "metadata": {},
   "outputs": [
    {
     "name": "stdout",
     "output_type": "stream",
     "text": [
      "52.6 ms ± 2.13 ms per loop (mean ± std. dev. of 7 runs, 1 loop each)\n",
      "65.4 ms ± 9.92 ms per loop (mean ± std. dev. of 7 runs, 10 loops each)\n",
      "85.4 ms ± 8.29 ms per loop (mean ± std. dev. of 7 runs, 10 loops each)\n",
      "29.7 ms ± 3.32 ms per loop (mean ± std. dev. of 7 runs, 10 loops each)\n"
     ]
    }
   ],
   "source": [
    "x = np.random.standard_normal((5, 10000000))\n",
    "y = 2 * x + 3\n",
    "C = np.array((x, y), order='C') # 类 C 语言内存布局（行优先）\n",
    "F = np.array((x, y), order='F') # 类 Fortran 内存布局（列优先）\n",
    "x = 0.0\n",
    "y = 0.0  # memory cleanup\n",
    "\n",
    "%timeit C.sum()\n",
    "# 1 loop, best of 3: 146 ms per loop\n",
    "\n",
    "%timeit F.sum()\n",
    "# 1 loop, best of 3: 145 ms per loop\n",
    "\n",
    "%timeit C[0].sum(axis=0)  # 对每列元素求和\n",
    "# 10 loops, best of 3: 130 ms per loop\n",
    "%timeit C[0].sum(axis=1)  # 对每行元素求和\n",
    "# 10 loops, best of 3: 73.5 ms per loop"
   ]
  },
  {
   "cell_type": "markdown",
   "metadata": {},
   "source": [
    "> 行元素求和速度更快,这是因为每行元素都在相邻的存储位置上 "
   ]
  }
 ],
 "metadata": {
  "kernelspec": {
   "display_name": "Python 3",
   "language": "python",
   "name": "python3"
  },
  "language_info": {
   "codemirror_mode": {
    "name": "ipython",
    "version": 3
   },
   "file_extension": ".py",
   "mimetype": "text/x-python",
   "name": "python",
   "nbconvert_exporter": "python",
   "pygments_lexer": "ipython3",
   "version": "3.7.6"
  }
 },
 "nbformat": 4,
 "nbformat_minor": 1
}