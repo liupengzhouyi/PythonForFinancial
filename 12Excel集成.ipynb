{
 "cells": [
  {
   "cell_type": "markdown",
   "metadata": {
    "collapsed": true,
    "pycharm": {
     "name": "#%% \n"
    }
   },
   "source": [
    "# 第12章 Excel集成"
   ]
  },
  {
   "cell_type": "markdown",
   "metadata": {},
   "source": [
    "## 12.1 基本电子表格交互"
   ]
  },
  {
   "cell_type": "markdown",
   "metadata": {},
   "source": [
    "### 12.1.1 生成工作簿（.xls）"
   ]
  },
  {
   "cell_type": "code",
   "execution_count": 6,
   "metadata": {},
   "outputs": [],
   "source": [
    "import numpy as np\n",
    "import pandas as pd\n",
    "import xlrd, xlwt\n",
    "import xlsxwriter\n",
    "\n",
    "path = 'data/12/'\n",
    "\n",
    "wb = xlwt.Workbook()\n",
    "wb.add_sheet('first_sheet', cell_overwrite_ok=True)\n",
    "wb.get_active_sheet()\n",
    "ws_1 = wb.get_sheet(0)\n",
    "ws_2 = wb.add_sheet('second_sheet', cell_overwrite_ok=True)\n",
    "\n",
    "data = np.arange(1, 65).reshape((8, 8))\n",
    "\n",
    "# 使用 write 方法提供行/列信息（使用零基索引）\n",
    "ws_1.write(1, 0, 100)  # wirte 100 in cell \"A1\"\n",
    "ws_2.write(0, 0, 100)\n",
    "\n",
    "for c in range(data.shape[0]):\n",
    "    for r in range(data.shape[1]):\n",
    "        ws_1.write(r, c, int(data[c, r]))\n",
    "        ws_2.write(r, c, int(data[r, c]))\n",
    "\n",
    "wb.save(path + 'workbook.xls')"
   ]
  },
  {
   "cell_type": "markdown",
   "metadata": {},
   "source": [
    "### 12.1.2 生成工作簿（.xslx）"
   ]
  },
  {
   "cell_type": "code",
   "execution_count": 7,
   "metadata": {},
   "outputs": [],
   "source": [
    "# 创建一个工作簿\n",
    "wb = xlsxwriter.Workbook(path + 'workbook.xlsx')\n",
    "# 创建工作表对象\n",
    "ws_1 = wb.add_worksheet('first_sheet')\n",
    "ws_2 = wb.add_worksheet('second_sheet')\n",
    "# 将数据写入到工作表对象\n",
    "for c in range(data.shape[0]):\n",
    "    for r in range(data.shape[1]):\n",
    "        ws_1.write(r, c, data[c, r])\n",
    "        ws_2.write(c, r, data[r, c])\n",
    "\n",
    "wb.close()"
   ]
  },
  {
   "cell_type": "markdown",
   "metadata": {},
   "source": [
    "#### 生成图表"
   ]
  },
  {
   "cell_type": "code",
   "execution_count": 8,
   "metadata": {},
   "outputs": [],
   "source": [
    "wb = xlsxwriter.Workbook(path + 'chart.xlsx')\n",
    "ws = wb.add_worksheet()\n",
    "\n",
    "# write cumsum of random values in first column\n",
    "values = np.random.standard_normal(15).cumsum()\n",
    "ws.write_column('A1', values)\n",
    "\n",
    "# create a new chart object\n",
    "chart = wb.add_chart({'type': 'line'})\n",
    "\n",
    "# add a series to the chart\n",
    "chart.add_series({'values': '=Sheet1!$A$1:$A$15',\n",
    "                  'marker': {'type': 'diamond'}, })\n",
    "\n",
    "# insert the chart\n",
    "ws.insert_chart('C1', chart)\n",
    "wb.close()"
   ]
  },
  {
   "cell_type": "markdown",
   "metadata": {},
   "source": [
    "### 12.1.3 从工作簿中读取"
   ]
  },
  {
   "cell_type": "code",
   "execution_count": 9,
   "metadata": {},
   "outputs": [
    {
     "data": {
      "text/plain": [
       "2"
      ]
     },
     "execution_count": 9,
     "metadata": {},
     "output_type": "execute_result"
    }
   ],
   "source": [
    "book = xlrd.open_workbook(path + 'workbook.xlsx')\n",
    "book.sheet_names()\n",
    "# ['first_sheet', 'second_sheet']\n",
    "sheet_1 = book.sheet_by_name('first_sheet')\n",
    "sheet_2 = book.sheet_by_index(1)\n",
    "\n",
    "sheet_2.name\n",
    "# 'second_sheet'\n",
    "\n",
    "#  ncols 和 nrows 分别表示包含数据的列数和行数\n",
    "sheet_1.ncols, sheet_1.nrows\n",
    "# (8, 8)\n",
    "\n",
    "cl = sheet_1.cell(0, 0)\n",
    "cl.value\n",
    "# 1.0\n",
    "\n",
    "cl.ctype\n",
    "# 2"
   ]
  },
  {
   "cell_type": "markdown",
   "metadata": {},
   "source": [
    "#### Excel单元格类型"
   ]
  },
  {
   "cell_type": "markdown",
   "metadata": {},
   "source": [
    "| 类型           | 编号 | Python类型                         |\n",
    "| -------------- | ---- | ---------------------------------- |\n",
    "| XL_CELL_EMPTY  | 0    | 空字符串                           |\n",
    "| XL_CELL_TEXT   | 1    | Unicoe字符串                       |\n",
    "| XL_CELL_NUMBER | 2    | float                              |\n",
    "| XL_CELL_DATE   | 3    | foat                               |\n",
    "| XL_CELL_BOLEAN | 4    | int(l=TRUE,0=FALSE)                |\n",
    "| XL_CELL_ERROR  | 5    | int表示Excel内部编码               |\n",
    "| XL_CELL_BLANK  | 6    | 空字符串，仅当formatting_info=True |"
   ]
  },
  {
   "cell_type": "markdown",
   "metadata": {},
   "source": [
    "#### 可以为row方法提供行号，访问整行"
   ]
  },
  {
   "cell_type": "code",
   "execution_count": 10,
   "metadata": {},
   "outputs": [
    {
     "data": {
      "text/plain": [
       "[number:4.0,\n",
       " number:12.0,\n",
       " number:20.0,\n",
       " number:28.0,\n",
       " number:36.0,\n",
       " number:44.0,\n",
       " number:52.0,\n",
       " number:60.0]"
      ]
     },
     "execution_count": 10,
     "metadata": {},
     "output_type": "execute_result"
    }
   ],
   "source": [
    "sheet_2.row(3)"
   ]
  },
  {
   "cell_type": "markdown",
   "metadata": {},
   "source": [
    "#### 访问整列"
   ]
  },
  {
   "cell_type": "code",
   "execution_count": 11,
   "metadata": {},
   "outputs": [
    {
     "data": {
      "text/plain": [
       "[number:25.0,\n",
       " number:26.0,\n",
       " number:27.0,\n",
       " number:28.0,\n",
       " number:29.0,\n",
       " number:30.0,\n",
       " number:31.0,\n",
       " number:32.0]"
      ]
     },
     "execution_count": 11,
     "metadata": {},
     "output_type": "execute_result"
    }
   ],
   "source": [
    "sheet_2.col(3)"
   ]
  },
  {
   "cell_type": "markdown",
   "metadata": {},
   "source": [
    "#### row_values 和 col_values 只提供包含在对应行或者列的值"
   ]
  },
  {
   "cell_type": "code",
   "execution_count": 13,
   "metadata": {},
   "outputs": [
    {
     "name": "stdout",
     "output_type": "stream",
     "text": [
      "[28.0, 29.0, 30.0, 31.0]\n",
      "[28.0, 36.0, 44.0, 52.0]\n"
     ]
    }
   ],
   "source": [
    "v1 = sheet_1.col_values(3, start_rowx=3, end_rowx=7)\n",
    "v2 = sheet_1.row_values(3, start_colx=3, end_colx=7)\n",
    "\n",
    "print(v1)\n",
    "print(v2)"
   ]
  },
  {
   "cell_type": "markdown",
   "metadata": {},
   "source": [
    "#### 读出工作簿对象中的所有数据"
   ]
  },
  {
   "cell_type": "code",
   "execution_count": 16,
   "metadata": {},
   "outputs": [
    {
     "name": "stdout",
     "output_type": "stream",
     "text": [
      "1, 2, 3, 4, 5, 6, 7, 8, \n",
      "9, 10, 11, 12, 13, 14, 15, 16, \n",
      "17, 18, 19, 20, 21, 22, 23, 24, \n",
      "25, 26, 27, 28, 29, 30, 31, 32, \n",
      "33, 34, 35, 36, 37, 38, 39, 40, \n",
      "41, 42, 43, 44, 45, 46, 47, 48, \n",
      "49, 50, 51, 52, 53, 54, 55, 56, \n",
      "57, 58, 59, 60, 61, 62, 63, 64, \n"
     ]
    }
   ],
   "source": [
    "for c in range(sheet_1.ncols):\n",
    "    for r in range(sheet_1.nrows):\n",
    "        print('%i' % sheet_1.cell(r, c).value, end=', ')\n",
    "    print()"
   ]
  },
  {
   "cell_type": "markdown",
   "metadata": {},
   "source": [
    "### 12.1.4 使用OpenPyxl"
   ]
  },
  {
   "cell_type": "code",
   "execution_count": 17,
   "metadata": {},
   "outputs": [],
   "source": [
    "import openpyxl as oxl\n",
    "\n",
    "# 生成一个工作簿对象\n",
    "wb = oxl.Workbook()\n",
    "# 创建一个工作表对象\n",
    "ws = wb.create_sheet(index=0, title='oxl_sheet')\n",
    "# 将数据写入工作表\n",
    "for c in range(data.shape[0]):\n",
    "    for r in range(data.shape[1]):\n",
    "        # 索引从1开始\n",
    "        ws.cell(row=r+1, column=c+1).value = data[c, r]\n",
    "        # create a Cell object and assigns a value\n",
    "\n",
    "wb.save(path+'oxl_book.xlsx')"
   ]
  },
  {
   "cell_type": "code",
   "execution_count": 22,
   "metadata": {},
   "outputs": [
    {
     "name": "stdout",
     "output_type": "stream",
     "text": [
      "2\n",
      "4\n",
      "12\n",
      "((<Cell 'oxl_sheet'.B1>,), (<Cell 'oxl_sheet'.B2>,), (<Cell 'oxl_sheet'.B3>,), (<Cell 'oxl_sheet'.B4>,))\n",
      "9\n",
      "10\n",
      "11\n",
      "12\n"
     ]
    }
   ],
   "source": [
    "wb = oxl.load_workbook(path + 'oxl_book.xlsx')\n",
    "ws = wb.active\n",
    "cell = ws['B4']\n",
    "print(cell.column)\n",
    "# 'B'\n",
    "print(cell.row)\n",
    "# 4\n",
    "print(cell.value)\n",
    "# 12\n",
    "print(ws['B1':'B4'])\n",
    "for cell in ws['B1':'B4']:\n",
    "    print(cell[0].value)"
   ]
  },
  {
   "cell_type": "markdown",
   "metadata": {},
   "source": [
    "### 12.1.5 使用pandas读写"
   ]
  },
  {
   "cell_type": "code",
   "execution_count": 27,
   "metadata": {},
   "outputs": [
    {
     "name": "stdout",
     "output_type": "stream",
     "text": [
      "['A', 'B', 'C', 'D', 'E', 'F', 'G', 'H']\n",
      "1600000\n",
      "CPU times: user 3.67 s, sys: 161 ms, total: 3.83 s\n",
      "Wall time: 3.89 s\n",
      "CPU times: user 725 µs, sys: 2.18 ms, total: 2.91 ms\n",
      "Wall time: 2.55 ms\n",
      "CPU times: user 2.7 s, sys: 27 ms, total: 2.72 s\n",
      "Wall time: 2.75 s\n",
      "CPU times: user 636 µs, sys: 973 µs, total: 1.61 ms\n",
      "Wall time: 1.47 ms\n"
     ]
    }
   ],
   "source": [
    "df_1 = pd.read_excel(path + 'workbook.xlsx', 'first_sheet', header=None)\n",
    "df_2 = pd.read_excel(path + 'workbook.xlsx', 'second_sheet', header=None)\n",
    "\n",
    "import string\n",
    "\n",
    "columns = []\n",
    "data = np.arange(1, 65).reshape((8, 8))\n",
    "\n",
    "for c in range(data.shape[0]):\n",
    "    columns.append(string.ascii_uppercase[c])\n",
    "\n",
    "print(columns)\n",
    "# ['A', 'B', 'C', 'D', 'E', 'F', 'G', 'H']\n",
    "\n",
    "df_1.columns = columns\n",
    "df_2.columns = columns\n",
    "\n",
    "df_1.to_excel(path + 'new_book_1.xlsx', 'my_sheet')\n",
    "\n",
    "# 将多个DataFrame对象写人单个电子表格文件\n",
    "\n",
    "wbw = pd.ExcelWriter(path + 'new_book_2.xlsx')\n",
    "df_1.to_excel(wbw, 'first_sheet')\n",
    "df_2.to_excel(wbw, 'second_sheet')\n",
    "\n",
    "wbw.save()\n",
    "\n",
    "# 检查一下， 是否已经在单一电子表格文件中生成了两个工作表：\n",
    "wbn = xlrd.open_workbook(path + 'new_book_2.xlsx')\n",
    "wbn.sheet_names()\n",
    "# ['first_sheet', 'second_sheet']\n",
    "\n",
    "# 更大量数据的读写\n",
    "data = np.random.rand(20, 10000)\n",
    "print(data.nbytes)\n",
    "# 16000000\n",
    "\n",
    "df = pd.DataFrame(data)\n",
    "%time df.to_excel(path+'data.xlsx','data_sheet')\n",
    "# Wall time: 58.6 s\n",
    "%time np.save(path+'data',data)\n",
    "# Wall time: 8 ms\n",
    "\n",
    "%time df=pd.read_excel(path+'data.xlsx','data_sheet')\n",
    "# Wall time: 6.53 s\n",
    "%time data=np.load(path+'data.npy')\n",
    "# Wall time: 10 ms"
   ]
  },
  {
   "cell_type": "code",
   "execution_count": null,
   "metadata": {},
   "outputs": [],
   "source": []
  }
 ],
 "metadata": {
  "kernelspec": {
   "display_name": "Python 3",
   "language": "python",
   "name": "python3"
  },
  "language_info": {
   "codemirror_mode": {
    "name": "ipython",
    "version": 3
   },
   "file_extension": ".py",
   "mimetype": "text/x-python",
   "name": "python",
   "nbconvert_exporter": "python",
   "pygments_lexer": "ipython3",
   "version": "3.7.6"
  }
 },
 "nbformat": 4,
 "nbformat_minor": 1
}