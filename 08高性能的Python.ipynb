{
 "cells": [
  {
   "cell_type": "markdown",
   "metadata": {
    "collapsed": true
   },
   "source": [
    "# 第8章 高性能的Python"
   ]
  },
  {
   "cell_type": "markdown",
   "metadata": {},
   "source": [
    "> 许多高性能库可以用于加速Python代码的执行：\n",
    "    * Cython 用于合并Py由on和C语言静态编译范型。\n",
    "    * IPython.parallel 用于在本地或者在群集上并行执行代码／函数。\n",
    "    * numexpr 用于快速数值运算。\n",
    "    * multiprocessing Python内建的（本地）并行处理模块。\n",
    "    * Numba 用于为CPU动态编译Python代码。\n",
    "    * NumbaPro 用于为多核CPU和GPU动态编译Python代码。"
   ]
  },
  {
   "cell_type": "markdown",
   "metadata": {},
   "source": [
    "## 8.1 Python范型与性能"
   ]
  },
  {
   "cell_type": "code",
   "execution_count": 1,
   "metadata": {},
   "outputs": [
    {
     "name": "stdout",
     "output_type": "stream",
     "text": [
      "function:f6, av.item sec:   0.00281, relative:    1.0\n",
      "function:f5, av.item sec:   0.00906, relative:    3.2\n",
      "function:f4, av.item sec:   0.01905, relative:    6.8\n",
      "function:f2, av.item sec:   0.21946, relative:   78.0\n",
      "function:f1, av.item sec:   0.24586, relative:   87.3\n",
      "function:f3, av.item sec:   6.22748, relative: 2212.5\n"
     ]
    }
   ],
   "source": [
    "def perf_comp_data(func_list, data_list, rep=3, number=1):\n",
    "    \"\"\"\n",
    "    Function to compare the performance of different function.\n",
    "    :param func_list: list with function names as strings\n",
    "    :param data_list: list with data set names as strings\n",
    "    :param rep: number of repetitions of the whole comparison\n",
    "    :param number: number of executions for every function\n",
    "    :return:\n",
    "    \"\"\"\n",
    "    from timeit import repeat\n",
    "    res_list = {}\n",
    "    for name in enumerate(func_list):\n",
    "        stmt = name[1] + '(' + data_list[name[0]] + ')'\n",
    "        setup = \"from __main__ import \" + name[1] + ', ' + data_list[name[0]]\n",
    "        results = repeat(stmt=stmt, setup=setup, repeat=rep, number=number)\n",
    "        res_list[name[1]] = sum(results) / rep\n",
    "    res_sort = sorted(res_list.items(), key=lambda item: item[1])\n",
    "    for item in res_sort:\n",
    "        rel = item[1] / res_sort[0][1]\n",
    "        print('function:' + item[0] + ', av.item sec: %9.5f, ' % item[1] + 'relative: %6.1f' % rel)\n",
    "\n",
    "\n",
    "# 8.1 Python范型与性能\n",
    "\n",
    "from math import *\n",
    "\n",
    "\n",
    "# 很容易转换为一个Python函数\n",
    "def f(x):\n",
    "    return abs(cos(x)) ** 0.5 + sin(2 + 3 * x)\n",
    "\n",
    "# 使用range函数，我们可以高效地生成一个包含 50 万个数值的列表对象\n",
    "I = 500000\n",
    "a_py = range(I)\n",
    "\n",
    "# 包含显式循环的标准Python函数\n",
    "def f1(a):\n",
    "    res = []\n",
    "    for x in a:\n",
    "        res.append(f(x))\n",
    "    return res\n",
    "\n",
    "# 包含隐含循环的迭代子方法\n",
    "def f2(a):\n",
    "    return [f(x) for x in a]\n",
    "\n",
    "# 包含隐含循环、使用eval的选代子方法\n",
    "def f3(a):\n",
    "    ex = 'abs(cos(x))**0.5+sin(2+3*x)'\n",
    "    return [eval(ex) for x in a]\n",
    "\n",
    "# Numy向量化实现\n",
    "import numpy as np\n",
    "a_np = np.arange(I)\n",
    "def f4(a):\n",
    "    return (np.abs(np.cos(a)) ** 0.5 + np.sin(2 + 3 * a))\n",
    "\n",
    "# 专用库numexpr求数值表达式的值。 这个库内建了多线程执行支持\n",
    "# numexpr单线程实现\n",
    "import numexpr as ne\n",
    "def f5(a):\n",
    "    ex='abs(cos(a))**0.5+sin(2+3*a)'\n",
    "    ne.set_num_threads(1)\n",
    "    return ne.evaluate(ex)\n",
    "\n",
    "# nwexpr多线程实现\n",
    "def f6(a):\n",
    "    ex = 'abs(cos(a))**0.5+sin(2+3*a)'\n",
    "    ne.set_num_threads(16)\n",
    "    return ne.evaluate(ex)\n",
    "\n",
    "\n",
    "r1=f1(a_py)\n",
    "r2=f2(a_py)\n",
    "r3=f3(a_py)\n",
    "r4=f4(a_np)\n",
    "r5=f5(a_np)\n",
    "r6=f6(a_np)\n",
    "# Wall time: 35.1 s\n",
    "\n",
    "# NumPy函数alJclose可以轻松地检查两个（类） ndarray对象是否包含相同数据\n",
    "np.allclose(r1,r2)\n",
    "# True\n",
    "np.allclose(r1,r3)\n",
    "# True\n",
    "np.allclose(r1,r4)\n",
    "# True\n",
    "np.allclose(r1,r5)\n",
    "# True\n",
    "np.allclose(r1,r6)\n",
    "# True\n",
    "\n",
    "# 使用perf_comp_data函数\n",
    "func_list=['f1','f2','f3','f4','f5','f6']\n",
    "data_list=['a_py','a_py','a_py','a_np','a_np','a_np']\n",
    "perf_comp_data(func_list,data_list)\n",
    "# function:f6, av.item sec:   0.01623, relative:    1.0\n",
    "# function:f5, av.item sec:   0.04650, relative:    2.9\n",
    "# function:f4, av.item sec:   0.07293, relative:    4.5\n",
    "# function:f2, av.item sec:   1.17137, relative:   72.2\n",
    "# function:f1, av.item sec:   1.33291, relative:   82.1\n",
    "# function:f3, av.item sec:  33.47790, relative: 2062.2"
   ]
  },
  {
   "cell_type": "markdown",
   "metadata": {},
   "source": [
    "## 内存布局与性能"
   ]
  },
  {
   "cell_type": "code",
   "execution_count": 2,
   "metadata": {},
   "outputs": [
    {
     "name": "stdout",
     "output_type": "stream",
     "text": [
      "6.11 ms ± 348 µs per loop (mean ± std. dev. of 7 runs, 100 loops each)\n",
      "1.98 ms ± 82.5 µs per loop (mean ± std. dev. of 7 runs, 100 loops each)\n",
      "31.3 ms ± 1.03 ms per loop (mean ± std. dev. of 7 runs, 10 loops each)\n",
      "13.5 ms ± 551 µs per loop (mean ± std. dev. of 7 runs, 100 loops each)\n",
      "26.1 ms ± 309 µs per loop (mean ± std. dev. of 7 runs, 10 loops each)\n",
      "21.9 ms ± 324 µs per loop (mean ± std. dev. of 7 runs, 10 loops each)\n",
      "77.5 ms ± 314 µs per loop (mean ± std. dev. of 7 runs, 10 loops each)\n",
      "62.9 ms ± 682 µs per loop (mean ± std. dev. of 7 runs, 10 loops each)\n"
     ]
    }
   ],
   "source": [
    "import numpy as np\n",
    "np.zeros((3,3),dtype=np.float64,order='C')\n",
    "# array([[ 0.,  0.,  0.],\n",
    "#        [ 0.,  0.,  0.],\n",
    "#        [ 0.,  0.,  0.]])\n",
    "\n",
    "# 元素在内存中存储的顺序：C表示类似C（行优先）\n",
    "c=np.array([[1.,1.,1.],\n",
    "            [2.,2.,2.],\n",
    "            [3.,3.,3.]],order='C')\n",
    "# F表示类似Fortran （列优先）\n",
    "f=np.array([[1.,1.,1.],\n",
    "            [2.,2.,2.],\n",
    "            [3.,3.,3.]],order='F')\n",
    "\n",
    "x = np.random.standard_normal((3, 1500000))\n",
    "C = np.array(x, order='C')\n",
    "F = np.array(x, order='F')\n",
    "x = 0.0\n",
    "\n",
    "%timeit C.sum(axis=0)  # 10 loops, best of 3: 19.3 ms per loop\n",
    "%timeit C.sum(axis=1)  # 100 loops, best of 3: 10.3 ms per loop\n",
    "# 第一个轴上计算总和比第二个轴慢了将近一倍\n",
    "%timeit C.std(axis=0)  # 10 loops, best of 3: 112 ms per loop\n",
    "%timeit C.std(axis=1)  # 10 loops, best of 3: 57.6 ms per loop\n",
    "\n",
    "%timeit F.sum(axis=0)  # 10 loops, best of 3: 70.7 ms per loop\n",
    "%timeit F.sum(axis=1)  # 10 loops, best of 3: 84.2 ms per loop\n",
    "# 两个轴的相对差值并不太大\n",
    "%timeit F.std(axis=0)  # 1 loop, best of 3: 253 ms per loop\n",
    "%timeit F.std(axis=1)  # 1 loop, best of 3: 227 ms per loop\n",
    "\n",
    "# 与类似C的布局相比， 类似F这种布局的性能更差\n"
   ]
  },
  {
   "cell_type": "markdown",
   "metadata": {},
   "source": [
    "## 8.3 并行计算"
   ]
  },
  {
   "cell_type": "markdown",
   "metadata": {},
   "source": [
    "### 8.3.1 蒙特卡洛算法"
   ]
  },
  {
   "cell_type": "code",
   "execution_count": 3,
   "metadata": {},
   "outputs": [],
   "source": [
    "def bsm_mcs_valuation(strike):\n",
    "    \"\"\"\n",
    "    Dynamic Black-Scholes-Merton Monte Carlo estimator for European calls.\n",
    "    :param strike:\n",
    "    :return:\n",
    "    \"\"\"\n",
    "    import numpy as np\n",
    "    S0=100.;T=1.0;r=0.05;vola=0.2\n",
    "    M=50;I=2000\n",
    "    dt=T/M\n",
    "    rand=np.random.standard_normal((M+1,I))\n",
    "    S=np.zeros((M+1,I));S[0]=S0\n",
    "    for t in range(1,M+1):\n",
    "        S[t]=S[t-1]*np.exp((r-0.5*vola**2)*dt+vola*np.sqrt(dt)*rand[t])\n",
    "    value=(np.exp(-r*T)*np.sum(np.maximum(S[-1]-strike,0))/I)\n",
    "    return value"
   ]
  },
  {
   "cell_type": "markdown",
   "metadata": {},
   "source": [
    "### 8.3.2 顺序化计算"
   ]
  },
  {
   "cell_type": "code",
   "execution_count": 4,
   "metadata": {},
   "outputs": [
    {
     "name": "stdout",
     "output_type": "stream",
     "text": [
      "CPU times: user 332 ms, sys: 2.31 ms, total: 334 ms\n",
      "Wall time: 333 ms\n"
     ]
    },
    {
     "data": {
      "text/plain": [
       "Text(0, 0.5, 'European call option values')"
      ]
     },
     "execution_count": 4,
     "metadata": {},
     "output_type": "execute_result"
    },
    {
     "data": {
      "image/png": "[encoded data removed]",
      "text/plain": [
       "<Figure size 576x288 with 1 Axes>"
      ]
     },
     "metadata": {
      "needs_background": "light"
     },
     "output_type": "display_data"
    }
   ],
   "source": [
    "def seq_value(n):\n",
    "    \"\"\"\n",
    "    Sequential option valuation\n",
    "    :param n: number of option valuations/strikes\n",
    "    :return:\n",
    "    \"\"\"\n",
    "    strikes=np.linspace(80,120,n)\n",
    "    option_values=[]\n",
    "    for strike in strikes:\n",
    "        option_values.append(bsm_mcs_valuation(strike))\n",
    "    return strikes,option_values\n",
    "\n",
    "n=100 # number of options to be valued\n",
    "%time strikes,option_values_seq=seq_value(n)\n",
    "# Wall time: 1.39 s\n",
    "\n",
    "import matplotlib.pyplot as plt\n",
    "plt.figure(figsize=(8,4))\n",
    "plt.plot(strikes,option_values_seq,'b')\n",
    "plt.plot(strikes,option_values_seq,'r.')\n",
    "plt.grid(True)\n",
    "plt.xlabel('strikes')\n",
    "plt.ylabel('European call option values')"
   ]
  },
  {
   "cell_type": "markdown",
   "metadata": {},
   "source": [
    "## 8.4 多处理"
   ]
  },
  {
   "cell_type": "code",
   "execution_count": null,
   "metadata": {},
   "outputs": [
    {
     "name": "stdout",
     "output_type": "stream",
     "text": [
      "[[100.         100.        ]\n",
      " [ 91.94084739  94.53682889]\n",
      " [ 85.6764648   80.1533799 ]\n",
      " [ 88.63429712  72.21761107]\n",
      " [ 87.7624879   67.37582274]\n",
      " [ 84.64830338  69.26316996]]\n"
     ]
    }
   ],
   "source": [
    "import numpy as np\n",
    "import multiprocessing as mp\n",
    "import math\n",
    "import matplotlib.pyplot as plt\n",
    "def simulate_geometric_brownian_motion(p):\n",
    "    M,I=p\n",
    "    # time steps,paths\n",
    "    S0=100;r=0.05;sigma=0.2;T=1.0\n",
    "    # model parameters\n",
    "    dt=T/M\n",
    "    paths=np.zeros((M+1,I))\n",
    "    paths[0]=S0\n",
    "    for t in range(1,M+1):\n",
    "        paths[t]=paths[t-1]*np.exp((r-0.5*sigma**2)*dt+sigma*math.sqrt(dt)*np.random.standard_normal(I))\n",
    "    return paths\n",
    "\n",
    "paths=simulate_geometric_brownian_motion((5,2))\n",
    "print(paths)\n",
    "# array([[ 100.        ,  100.        ],\n",
    "#        [  98.75585496,   86.36316092],\n",
    "#        [ 109.5045796 ,   82.00664539],\n",
    "#        [  92.85348223,   81.23649105],\n",
    "#        [  73.79002067,   81.99661207],\n",
    "#        [  67.4225339 ,   89.39928928]])\n",
    "\n",
    "if __name__ == '__main__':\n",
    "    I=10000  # number of paths\n",
    "    M=100  # number of time steps\n",
    "    t=100  # number of tasks/simulations\n",
    "    # running on server with 8 cores/16 threads\n",
    "    from time import time\n",
    "    times=[]\n",
    "    for w in range(1,17):\n",
    "        t0=time()\n",
    "        pool=mp.Pool(processes=w)\n",
    "        # the pool of workers\n",
    "        result = pool.map(simulate_geometric_brownian_motion,t*[(M,I),])\n",
    "        # the mapping of the function to the list of parameter tuples\n",
    "        times.append(time()-t0)\n",
    "\n",
    "    plt.plot(range(1, 17), times)\n",
    "    plt.plot(range(1, 17), times, 'ro')\n",
    "    plt.grid(True)\n",
    "    plt.xlabel('number of processes')\n",
    "    plt.ylabel('time in seconds')\n",
    "    plt.title('%d Monte Carlo simulations' % t)"
   ]
  },
  {
   "cell_type": "markdown",
   "metadata": {},
   "source": [
    "## 8.5 动态编译"
   ]
  },
  {
   "cell_type": "markdown",
   "metadata": {},
   "source": [
    "### 8.5.1 介绍性示例"
   ]
  },
  {
   "cell_type": "code",
   "execution_count": 6,
   "metadata": {},
   "outputs": [
    {
     "name": "stdout",
     "output_type": "stream",
     "text": [
      "CPU times: user 9.48 s, sys: 6.04 s, total: 15.5 s\n",
      "Wall time: 14.9 s\n",
      "CPU times: user 453 ms, sys: 683 ms, total: 1.14 s\n",
      "Wall time: 784 ms\n",
      "CPU times: user 1.58 s, sys: 5.7 s, total: 7.27 s\n",
      "Wall time: 6.83 s\n",
      "function:f_nb, av.item sec:   0.00000, relative:    1.0\n",
      "function:f_np, av.item sec:   0.79060, relative: 464600.7\n",
      "function:f_py, av.item sec:  12.19503, relative: 7166519.7\n"
     ]
    }
   ],
   "source": [
    "from math import cos,log\n",
    "def f_py(I,J):\n",
    "    res=0\n",
    "    for i in range(I):\n",
    "        for j in range(J):\n",
    "            res+=int(cos(log(1)))\n",
    "    return res\n",
    "\n",
    "I,J=5000,5000\n",
    "%time f_py(I,J)\n",
    "# Wall time: 30 s\n",
    "# 25000000\n",
    "\n",
    "def f_np(I, J):\n",
    "    a = np.ones((I, J), dtype=np.float64)\n",
    "    return int(np.sum(np.cos(np.log(a)))), a\n",
    "\n",
    "%time res, a = f_np(I, J)\n",
    "# Wall time: 1.34 s\n",
    "\n",
    "a.nbytes\n",
    "# 200000000\n",
    "\n",
    "import numba as nb\n",
    "f_nb=nb.jit(f_py)\n",
    "\n",
    "%time f_nb(I,J)\n",
    "# Wall time: 741 ms\n",
    "# 25000000\n",
    "\n",
    "func_list=['f_py','f_np','f_nb']\n",
    "data_list=3*['I,J']\n",
    "perf_comp_data(func_list,data_list)\n",
    "\n",
    "# function:f_nb, av.item sec:   0.00001, relative:    1.0\n",
    "# function:f_np, av.item sec:   1.36470, relative: 156714.8\n",
    "# function:f_py, av.item sec:  29.53817, relative: 3391993.0"
   ]
  },
  {
   "cell_type": "markdown",
   "metadata": {},
   "source": [
    "### 8.5.2 二项式期权定价方法"
   ]
  },
  {
   "cell_type": "markdown",
   "metadata": {},
   "source": [
    "## 8.6 用Cython进行静态编译"
   ]
  },
  {
   "cell_type": "markdown",
   "metadata": {},
   "source": [
    "## 8.7 在GPU上生成随机数"
   ]
  }
 ],
 "metadata": {
  "kernelspec": {
   "display_name": "Python 3",
   "language": "python",
   "name": "python3"
  },
  "language_info": {
   "codemirror_mode": {
    "name": "ipython",
    "version": 3
   },
   "file_extension": ".py",
   "mimetype": "text/x-python",
   "name": "python",
   "nbconvert_exporter": "python",
   "pygments_lexer": "ipython3",
   "version": "3.7.6"
  }
 },
 "nbformat": 4,
 "nbformat_minor": 1
}